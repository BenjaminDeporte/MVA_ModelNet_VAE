{
 "cells": [
  {
   "cell_type": "markdown",
   "metadata": {},
   "source": [
    "# VAE on ModelNet for scene completion"
   ]
  },
  {
   "cell_type": "markdown",
   "metadata": {},
   "source": [
    "Imports and setup"
   ]
  },
  {
   "cell_type": "code",
   "execution_count": 1,
   "metadata": {},
   "outputs": [],
   "source": [
    "import numpy as np\n",
    "import torch\n",
    "import sys\n",
    "import os\n",
    "from torch.utils.data import DataLoader\n"
   ]
  },
  {
   "cell_type": "code",
   "execution_count": 2,
   "metadata": {},
   "outputs": [],
   "source": [
    "sys.path.append('/home/benjamin.deporte/MVA/MVA_ModelNet_VAE/')\n",
    "\n",
    "from libs import dataset"
   ]
  },
  {
   "cell_type": "markdown",
   "metadata": {},
   "source": [
    "Import dataset and form dataloader"
   ]
  },
  {
   "cell_type": "code",
   "execution_count": 32,
   "metadata": {},
   "outputs": [],
   "source": [
    "# uses datasets and Dataset class from https://github.com/antao97/PointCloudDatasets/\n",
    "\n",
    "# parameters :\n",
    "# root : root directory, must contain file dataset_name + '_hdf5_2048\n",
    "# dataset_name : modelnet10 par défaut, sinon modelnet40\n",
    "# class_choice : permet de ne sélectionner qu'une classe\n",
    "# split : 'train' par défaut. valeurs possibles = 'test', 'trainval', 'all', etc.\n",
    "# possibilité de data augmentation également\n",
    "\n",
    "modelnet10 = dataset.Dataset(root='/home/benjamin.deporte/MVA/MVA_ModelNet_VAE/data/', load_name=True)\n",
    "modelnet40 = dataset.Dataset(root='/home/benjamin.deporte/MVA/MVA_ModelNet_VAE/data/', dataset_name='modelnet40')"
   ]
  },
  {
   "cell_type": "code",
   "execution_count": 33,
   "metadata": {},
   "outputs": [
    {
     "name": "stdout",
     "output_type": "stream",
     "text": [
      "ModelNet10 dataset has 3991 elements\n",
      "ModelNet40 dataset has 9843 elements\n"
     ]
    }
   ],
   "source": [
    "print(f\"ModelNet10 dataset has {len(modelnet10)} elements\")\n",
    "print(f\"ModelNet40 dataset has {len(modelnet40)} elements\")"
   ]
  },
  {
   "cell_type": "code",
   "execution_count": 43,
   "metadata": {},
   "outputs": [],
   "source": [
    "batch_size = 1"
   ]
  },
  {
   "cell_type": "code",
   "execution_count": 44,
   "metadata": {},
   "outputs": [],
   "source": [
    "mn10_loader = DataLoader(\n",
    "    modelnet10,\n",
    "    batch_size=batch_size,\n",
    "    shuffle=True\n",
    "    )\n",
    "\n",
    "mn10_iter = iter(mn10_loader)"
   ]
  },
  {
   "cell_type": "code",
   "execution_count": 45,
   "metadata": {},
   "outputs": [
    {
     "name": "stdout",
     "output_type": "stream",
     "text": [
      "point set = torch.Size([1, 2048, 3])\n",
      "label = tensor([[3]])\n",
      "name = ('desk',)\n",
      "file = ('desk/desk_0164.ply',)\n"
     ]
    }
   ],
   "source": [
    "# outputs :\n",
    "\n",
    "point_set, label, name, file = next(mn10_iter)\n",
    "\n",
    "print(f\"point set = {point_set.shape}\")\n",
    "print(f\"label = {label}\")\n",
    "print(f\"name = {name}\")\n",
    "print(f\"file = {file}\")"
   ]
  },
  {
   "cell_type": "markdown",
   "metadata": {},
   "source": [
    "Some visualisation"
   ]
  },
  {
   "cell_type": "code",
   "execution_count": 46,
   "metadata": {},
   "outputs": [],
   "source": [
    "from libs import visualize"
   ]
  },
  {
   "cell_type": "code",
   "execution_count": 50,
   "metadata": {},
   "outputs": [
    {
     "name": "stdout",
     "output_type": "stream",
     "text": [
      "torch.Size([1, 2048, 3]) torch.FloatTensor torch.Size([1, 1]) torch.LongTensor ('sofa',)\n"
     ]
    }
   ],
   "source": [
    "item = 0\n",
    "point_set, label, name, file = next(mn10_iter)\n",
    "\n",
    "print(point_set.size(), point_set.type(), label.size(), label.type(), name)\n",
    "dataset_name = 'modelnet10'\n",
    "save_root = os.path.join(\"/home/benjamin.deporte/MVA/MVA_ModelNet_VAE/image/\", dataset_name)\n",
    "split='train'\n",
    "name = 'essai'\n",
    "\n",
    "path = os.path.join(save_root, dataset_name + '_' + split + str(item) + '_' + str(name) + '.xml')\n",
    "visualize.mitsuba(point_set.numpy(), path)"
   ]
  },
  {
   "cell_type": "code",
   "execution_count": null,
   "metadata": {},
   "outputs": [],
   "source": []
  },
  {
   "cell_type": "code",
   "execution_count": null,
   "metadata": {},
   "outputs": [],
   "source": []
  },
  {
   "cell_type": "code",
   "execution_count": null,
   "metadata": {},
   "outputs": [],
   "source": []
  },
  {
   "cell_type": "code",
   "execution_count": null,
   "metadata": {},
   "outputs": [],
   "source": []
  }
 ],
 "metadata": {
  "kernelspec": {
   "display_name": "recvis",
   "language": "python",
   "name": "python3"
  },
  "language_info": {
   "codemirror_mode": {
    "name": "ipython",
    "version": 3
   },
   "file_extension": ".py",
   "mimetype": "text/x-python",
   "name": "python",
   "nbconvert_exporter": "python",
   "pygments_lexer": "ipython3",
   "version": "3.10.15"
  }
 },
 "nbformat": 4,
 "nbformat_minor": 2
}
